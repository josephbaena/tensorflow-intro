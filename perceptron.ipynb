{
 "cells": [
  {
   "cell_type": "markdown",
   "metadata": {
    "deletable": true,
    "editable": true
   },
   "source": [
    "# <img style='float: left' width=\"150px\" src=\"http://1.bp.blogspot.com/-gANdrsx2ceo/VkAzFQYZ8HI/AAAAAAAARXo/r25jef0dij4/s1600/2FNLTensorFlow.png\"> <br> <br> <br> &nbsp;&nbsp;&nbsp;&nbsp;&nbsp; <font color='#EB8B34'> Example #3: Single-Layer Neural Network</font>"
   ]
  },
  {
   "cell_type": "code",
   "execution_count": 1,
   "metadata": {
    "collapsed": true,
    "deletable": true,
    "editable": true
   },
   "outputs": [],
   "source": [
    "%matplotlib inline\n",
    "import numpy as np\n",
    "import matplotlib.pyplot as plt\n",
    "import tensorflow as tf\n",
    "from tensorflow.examples.tutorials.mnist import input_data"
   ]
  },
  {
   "cell_type": "markdown",
   "metadata": {
    "deletable": true,
    "editable": true
   },
   "source": [
    "## Load MNIST Data\n",
    "\n",
    "### MNIST consists of the following datasets:\n",
    "**train-images-idx3-ubyte.gz** Training set of 55,000 images<br>\n",
    "**train-labels-idx3-ubyte.gz** Labels corresponding to training images<br>\n",
    "**t10k-images-idx3-ubyte.gz** Testing set of 10,000 images<br>\n",
    "**t10k-labels-idx3-ubyte.gz** Labels corresponding to testing images<br>"
   ]
  },
  {
   "cell_type": "code",
   "execution_count": 2,
   "metadata": {
    "collapsed": false,
    "deletable": true,
    "editable": true
   },
   "outputs": [
    {
     "name": "stdout",
     "output_type": "stream",
     "text": [
      "Extracting MNIST_data/train-images-idx3-ubyte.gz\n",
      "Extracting MNIST_data/train-labels-idx1-ubyte.gz\n",
      "Extracting MNIST_data/t10k-images-idx3-ubyte.gz\n",
      "Extracting MNIST_data/t10k-labels-idx1-ubyte.gz\n"
     ]
    }
   ],
   "source": [
    "mnist = input_data.read_data_sets(\"MNIST_data/\", one_hot=True)"
   ]
  },
  {
   "cell_type": "code",
   "execution_count": 3,
   "metadata": {
    "collapsed": false,
    "deletable": true,
    "editable": true
   },
   "outputs": [
    {
     "name": "stdout",
     "output_type": "stream",
     "text": [
      "Number of training images: 55000\n",
      "Number of testing images: 10000\n",
      "Shape of the vector: 784\n"
     ]
    }
   ],
   "source": [
    "print \"Number of training images: %d\" % (len(mnist.train.images))\n",
    "print \"Number of testing images: %d\" % (len(mnist.test.labels))\n",
    "print \"Shape of the vector: %d\" % (len(mnist.train.images[0]))"
   ]
  },
  {
   "cell_type": "code",
   "execution_count": 4,
   "metadata": {
    "collapsed": false,
    "deletable": true,
    "editable": true
   },
   "outputs": [
    {
     "name": "stdout",
     "output_type": "stream",
     "text": [
      "[ 0.  0.  0.  0.  0.  0.  0.  1.  0.  0.]\n",
      "7\n"
     ]
    }
   ],
   "source": [
    "# Show the first example label\n",
    "print mnist.train.labels[0]\n",
    "print mnist.train.labels[0].argmax()"
   ]
  },
  {
   "cell_type": "code",
   "execution_count": 5,
   "metadata": {
    "collapsed": false,
    "deletable": true,
    "editable": true
   },
   "outputs": [
    {
     "data": {
      "image/png": "[encoded data removed]",
      "text/plain": [
       "<matplotlib.figure.Figure at 0x1175cb750>"
      ]
     },
     "metadata": {},
     "output_type": "display_data"
    }
   ],
   "source": [
    "# Visualize the first training example\n",
    "plt.imshow(np.reshape(mnist.train.images[0], (28,28)), cmap=plt.cm.Greys)\n",
    "plt.show()"
   ]
  },
  {
   "cell_type": "code",
   "execution_count": 6,
   "metadata": {
    "collapsed": false,
    "deletable": true,
    "editable": true
   },
   "outputs": [
    {
     "data": {
      "image/png": "[encoded data removed]",
      "text/plain": [
       "<matplotlib.figure.Figure at 0x10d6e7a90>"
      ]
     },
     "metadata": {},
     "output_type": "display_data"
    }
   ],
   "source": [
    "# Visualize the 2022th training example\n",
    "plt.imshow(np.reshape(mnist.train.images[2021], (28,28)), cmap=plt.cm.Greys)\n",
    "plt.show()"
   ]
  },
  {
   "cell_type": "markdown",
   "metadata": {
    "deletable": true,
    "editable": true
   },
   "source": [
    "## Set up the Graph"
   ]
  },
  {
   "cell_type": "markdown",
   "metadata": {
    "deletable": true,
    "editable": true
   },
   "source": [
    "<img style='center' width=\"350px\" src=\"perceptron.png\">"
   ]
  },
  {
   "cell_type": "markdown",
   "metadata": {
    "deletable": true,
    "editable": true
   },
   "source": [
    "We set `x` and `y_` to be a placeholder of training examples and their corresponding labels. Each example `x[i]` corresponds to label `y_[i]`."
   ]
  },
  {
   "cell_type": "code",
   "execution_count": 7,
   "metadata": {
    "collapsed": false,
    "deletable": true,
    "editable": true
   },
   "outputs": [],
   "source": [
    "x = tf.placeholder(\"float\", [None, 784])\n",
    "y_ = tf.placeholder(\"float\", [None, 10])"
   ]
  },
  {
   "cell_type": "markdown",
   "metadata": {
    "deletable": true,
    "editable": true
   },
   "source": [
    "We now set `W` and `b` to be _trainable_ variables: `W` is the weights matrix, and `b` is the bias term."
   ]
  },
  {
   "cell_type": "code",
   "execution_count": 8,
   "metadata": {
    "collapsed": true,
    "deletable": true,
    "editable": true
   },
   "outputs": [],
   "source": [
    "W = tf.Variable(tf.zeros([784, 10]))\n",
    "b = tf.Variable(tf.zeros([10]))"
   ]
  },
  {
   "cell_type": "markdown",
   "metadata": {
    "deletable": true,
    "editable": true
   },
   "source": [
    "Below is our model:"
   ]
  },
  {
   "cell_type": "code",
   "execution_count": 9,
   "metadata": {
    "collapsed": false,
    "deletable": true,
    "editable": true
   },
   "outputs": [],
   "source": [
    "y = tf.nn.softmax(tf.matmul(x, W) + b)"
   ]
  },
  {
   "cell_type": "markdown",
   "metadata": {
    "deletable": true,
    "editable": true
   },
   "source": [
    "### Cross Entropy\n",
    "Cross entropy will be our loss function. Our goal is to minimize the cross entropy between our predictions and the ground truth.\n",
    "<br>\n",
    "<br>\n",
    "`y` is our prediction\n",
    "<br>\n",
    "`y'` is the actual label\n"
   ]
  },
  {
   "cell_type": "markdown",
   "metadata": {
    "deletable": true,
    "editable": true
   },
   "source": [
    "<img style='center' width=\"450px\" src=\"cross_entropy.png\">"
   ]
  },
  {
   "cell_type": "code",
   "execution_count": 10,
   "metadata": {
    "collapsed": true,
    "deletable": true,
    "editable": true
   },
   "outputs": [],
   "source": [
    "cross_entropy = -tf.reduce_sum(y_*tf.log(y))\n",
    "train_step = tf.train.GradientDescentOptimizer(0.01).minimize(cross_entropy)"
   ]
  },
  {
   "cell_type": "markdown",
   "metadata": {
    "deletable": true,
    "editable": true
   },
   "source": [
    "## Execute the Graph"
   ]
  },
  {
   "cell_type": "code",
   "execution_count": 11,
   "metadata": {
    "collapsed": false,
    "deletable": true,
    "editable": true
   },
   "outputs": [
    {
     "name": "stdout",
     "output_type": "stream",
     "text": [
      "0: 0.4075\n",
      "10: 0.8245\n",
      "20: 0.6986\n",
      "30: 0.8402\n",
      "40: 0.8656\n",
      "50: 0.8545\n",
      "60: 0.8795\n",
      "70: 0.8494\n",
      "80: 0.8624\n",
      "90: 0.8047\n",
      "100: 0.894\n",
      "110: 0.8942\n",
      "120: 0.8961\n",
      "130: 0.8968\n",
      "140: 0.9022\n",
      "150: 0.9015\n",
      "160: 0.8817\n",
      "170: 0.9012\n",
      "180: 0.8888\n",
      "190: 0.8999\n",
      "200: 0.8989\n",
      "210: 0.9037\n",
      "220: 0.8941\n",
      "230: 0.9061\n",
      "240: 0.9045\n",
      "250: 0.8878\n",
      "260: 0.9079\n",
      "270: 0.9064\n",
      "280: 0.8886\n",
      "290: 0.9096\n",
      "300: 0.9012\n",
      "310: 0.9026\n",
      "320: 0.9039\n",
      "330: 0.9018\n",
      "340: 0.9116\n",
      "350: 0.9\n",
      "360: 0.9103\n",
      "370: 0.9018\n",
      "380: 0.8945\n",
      "390: 0.9134\n",
      "400: 0.904\n",
      "410: 0.9009\n",
      "420: 0.9053\n",
      "430: 0.9111\n",
      "440: 0.908\n",
      "450: 0.9039\n",
      "460: 0.9143\n",
      "470: 0.9085\n",
      "480: 0.886\n",
      "490: 0.9078\n",
      "500: 0.9105\n",
      "510: 0.9142\n",
      "520: 0.9058\n",
      "530: 0.9124\n",
      "540: 0.9112\n",
      "550: 0.9047\n",
      "560: 0.9124\n",
      "570: 0.9164\n",
      "580: 0.9096\n",
      "590: 0.9031\n",
      "600: 0.9132\n",
      "610: 0.9107\n",
      "620: 0.916\n",
      "630: 0.8957\n",
      "640: 0.9167\n",
      "650: 0.9131\n",
      "660: 0.9105\n",
      "670: 0.9137\n",
      "680: 0.9165\n",
      "690: 0.9119\n",
      "700: 0.9068\n",
      "710: 0.9133\n",
      "720: 0.9148\n",
      "730: 0.9161\n",
      "740: 0.9179\n",
      "750: 0.9089\n",
      "760: 0.9125\n",
      "770: 0.9137\n",
      "780: 0.9106\n",
      "790: 0.9193\n",
      "800: 0.9155\n",
      "810: 0.9144\n",
      "820: 0.912\n",
      "830: 0.92\n",
      "840: 0.9133\n",
      "850: 0.9179\n",
      "860: 0.9193\n",
      "870: 0.9099\n",
      "880: 0.9177\n",
      "890: 0.9017\n",
      "900: 0.9176\n",
      "910: 0.9078\n",
      "920: 0.9105\n",
      "930: 0.8958\n",
      "940: 0.9197\n",
      "950: 0.9082\n",
      "960: 0.9171\n",
      "970: 0.9083\n",
      "980: 0.9174\n",
      "990: 0.9179\n",
      "DONE TRAINING\n"
     ]
    }
   ],
   "source": [
    "sess = tf.Session()\n",
    "sess.run(tf.global_variables_initializer())\n",
    "\n",
    "accuracy_history = np.empty(shape=[1], dtype=float)\n",
    "for i in range(1000):\n",
    "    # randomly select 100 training data points, compute gradient with that\n",
    "    batch_xs, batch_ys = mnist.train.next_batch(100)\n",
    "    sess.run(train_step, feed_dict={x: batch_xs, y_: batch_ys})\n",
    "    correct_prediction = tf.equal(tf.argmax(y,1), tf.argmax(y_,1))\n",
    "    accuracy = tf.reduce_mean(tf.cast(correct_prediction, \"float\"))\n",
    "    accuracy_history = np.append(accuracy_history, sess.run(accuracy, feed_dict={x: mnist.test.images, y_: mnist.test.labels}))\n",
    "    if i % 10 == 0:\n",
    "        print \"%d: %s\" % (i, sess.run(accuracy, feed_dict={x: mnist.test.images, y_: mnist.test.labels}))\n",
    "\n",
    "\n",
    "print \"DONE TRAINING\""
   ]
  },
  {
   "cell_type": "code",
   "execution_count": 12,
   "metadata": {
    "collapsed": false,
    "deletable": true,
    "editable": true
   },
   "outputs": [
    {
     "data": {
      "image/png": "[encoded data removed]",
      "text/plain": [
       "<matplotlib.figure.Figure at 0x117758390>"
      ]
     },
     "metadata": {},
     "output_type": "display_data"
    }
   ],
   "source": [
    "plt.plot(range(len(accuracy_history)), accuracy_history)\n",
    "plt.title('Accuracy vs training epoch')\n",
    "plt.axis([0, 1000, 0, 1])\n",
    "plt.show()"
   ]
  },
  {
   "cell_type": "markdown",
   "metadata": {
    "collapsed": true,
    "deletable": true,
    "editable": true
   },
   "source": [
    "# Conclusion\n",
    "Accuracy is around 92%. **This is pretty bad for such a simple task!** \n",
    "\n",
    "If we're the post office, can we really get by if 8 out of 100 times we read the wrong number? NOPE."
   ]
  },
  {
   "cell_type": "code",
   "execution_count": null,
   "metadata": {
    "collapsed": true,
    "deletable": true,
    "editable": true
   },
   "outputs": [],
   "source": []
  }
 ],
 "metadata": {
  "kernelspec": {
   "display_name": "Python 2",
   "language": "python",
   "name": "python2"
  },
  "language_info": {
   "codemirror_mode": {
    "name": "ipython",
    "version": 2
   },
   "file_extension": ".py",
   "mimetype": "text/x-python",
   "name": "python",
   "nbconvert_exporter": "python",
   "pygments_lexer": "ipython2",
   "version": "2.7.10"
  }
 },
 "nbformat": 4,
 "nbformat_minor": 0
}
